{
 "cells": [
  {
   "cell_type": "markdown",
   "id": "f7566574",
   "metadata": {},
   "source": [
    "### User Interface:"
   ]
  },
  {
   "cell_type": "markdown",
   "id": "4c16ec86",
   "metadata": {},
   "source": [
    "Import important libraries:"
   ]
  },
  {
   "cell_type": "code",
   "execution_count": 1,
   "id": "a2e72621",
   "metadata": {},
   "outputs": [],
   "source": [
    "import mysql.connector\n",
    "import getpass\n",
    "import ipywidgets as widgets\n",
    "import random, string\n",
    "from datetime import datetime, timedelta"
   ]
  },
  {
   "cell_type": "markdown",
   "id": "b7845f8c",
   "metadata": {},
   "source": [
    "Register new user:"
   ]
  },
  {
   "cell_type": "code",
   "execution_count": 2,
   "id": "cab7166d",
   "metadata": {},
   "outputs": [
    {
     "data": {
      "application/vnd.jupyter.widget-view+json": {
       "model_id": "3138db4db20748899f8ee0edc2ffdec6",
       "version_major": 2,
       "version_minor": 0
      },
      "text/plain": [
       "Text(value='', description='Full Name:', placeholder='Enter name')"
      ]
     },
     "metadata": {},
     "output_type": "display_data"
    },
    {
     "data": {
      "application/vnd.jupyter.widget-view+json": {
       "model_id": "f3a33a1eff28472d9cce090b9a58f9ea",
       "version_major": 2,
       "version_minor": 0
      },
      "text/plain": [
       "Text(value='', description='Email:', placeholder='Enter Email')"
      ]
     },
     "metadata": {},
     "output_type": "display_data"
    },
    {
     "data": {
      "application/vnd.jupyter.widget-view+json": {
       "model_id": "bbf81ae7328742e889817f6af51f3524",
       "version_major": 2,
       "version_minor": 0
      },
      "text/plain": [
       "Text(value='', description='Phone No:', placeholder='Enter Phone Number')"
      ]
     },
     "metadata": {},
     "output_type": "display_data"
    },
    {
     "data": {
      "application/vnd.jupyter.widget-view+json": {
       "model_id": "be118f47e00c4447bb6f3274ac9867f9",
       "version_major": 2,
       "version_minor": 0
      },
      "text/plain": [
       "Text(value='', description='Address:', placeholder='Enter Address')"
      ]
     },
     "metadata": {},
     "output_type": "display_data"
    },
    {
     "data": {
      "application/vnd.jupyter.widget-view+json": {
       "model_id": "4f555e3a934a4494a6469c3770053828",
       "version_major": 2,
       "version_minor": 0
      },
      "text/plain": [
       "RadioButtons(description='Gender:', layout=Layout(width='max-content'), options=('MALE', 'FEMALE'), value='MAL…"
      ]
     },
     "metadata": {},
     "output_type": "display_data"
    },
    {
     "data": {
      "application/vnd.jupyter.widget-view+json": {
       "model_id": "2083d518319d484891ad382e163cf5f2",
       "version_major": 2,
       "version_minor": 0
      },
      "text/plain": [
       "Button(description='Submit', style=ButtonStyle())"
      ]
     },
     "metadata": {},
     "output_type": "display_data"
    },
    {
     "data": {
      "application/vnd.jupyter.widget-view+json": {
       "model_id": "73c4a7fea32b445191311c966de9c716",
       "version_major": 2,
       "version_minor": 0
      },
      "text/plain": [
       "Output()"
      ]
     },
     "metadata": {},
     "output_type": "display_data"
    }
   ],
   "source": [
    "#register new user\n",
    "conn = mysql.connector.connect(user='root', password='password',host='127.0.0.1',database='theatre')\n",
    "fullname = widgets.Text(placeholder='Enter name',description='Full Name:')\n",
    "email = widgets.Text(placeholder='Enter Email',description='Email:')\n",
    "phn = widgets.Text(placeholder='Enter Phone Number',description='Phone No:')\n",
    "addrs = widgets.Text(placeholder='Enter Address',description='Address:')\n",
    "gender_radio = widgets.RadioButtons(options=['MALE','FEMALE'],layout={'width': 'max-content'},description='Gender:')\n",
    "\n",
    "\n",
    "\n",
    "button = widgets.Button(description=\"Submit\")\n",
    "output = widgets.Output()\n",
    "\n",
    "\n",
    "def on_button_clicked(b):\n",
    "    with output:\n",
    "        output.clear_output()\n",
    "        u_id = ''.join(random.choices(string.ascii_letters + string.digits, k=16))\n",
    "        query_insertreview = ('insert into user values(\"{uid}\",\"{fname}\",\"{em}\",\"{ph}\",\"{addr}\",\"{gender},{role}\");'.format(\n",
    "        uid = u_id,\n",
    "        fname = fullname.value,\n",
    "        ph = phn.value,\n",
    "        addr = addrs.value,\n",
    "        gender = gender_radio.value,\n",
    "        role = 'USER'\n",
    "        ))\n",
    "\n",
    "        with conn.cursor() as cursor:\n",
    "            cursor.execute(query_insertreview)\n",
    "            cursor.execute('commit;')\n",
    "            print('User Registered with ID',u_id)\n",
    "\n",
    "button.on_click(on_button_clicked)\n",
    "\n",
    "\n",
    "display(fullname,email,phn,addrs,gender_radio,button,output)\n"
   ]
  },
  {
   "cell_type": "markdown",
   "id": "5ba3602a",
   "metadata": {},
   "source": [
    "Login to the the system(User or admin):"
   ]
  },
  {
   "cell_type": "code",
   "execution_count": 3,
   "id": "2e9d4d6f",
   "metadata": {},
   "outputs": [
    {
     "data": {
      "application/vnd.jupyter.widget-view+json": {
       "model_id": "aab478c5ed7c41dea645d208a1319cb1",
       "version_major": 2,
       "version_minor": 0
      },
      "text/plain": [
       "Text(value='', description='Username:', placeholder='Type username')"
      ]
     },
     "metadata": {},
     "output_type": "display_data"
    },
    {
     "data": {
      "application/vnd.jupyter.widget-view+json": {
       "model_id": "6ffbda40571840bb8134e2f555c7dac3",
       "version_major": 2,
       "version_minor": 0
      },
      "text/plain": [
       "Password(description='Password:', placeholder='Enter password')"
      ]
     },
     "metadata": {},
     "output_type": "display_data"
    },
    {
     "data": {
      "application/vnd.jupyter.widget-view+json": {
       "model_id": "44d75476687845b4af77aba154b97be2",
       "version_major": 2,
       "version_minor": 0
      },
      "text/plain": [
       "Button(description='Connect!', style=ButtonStyle())"
      ]
     },
     "metadata": {},
     "output_type": "display_data"
    },
    {
     "data": {
      "application/vnd.jupyter.widget-view+json": {
       "model_id": "fda29e393ac04c0aa949d09d69c4ba88",
       "version_major": 2,
       "version_minor": 0
      },
      "text/plain": [
       "Output()"
      ]
     },
     "metadata": {},
     "output_type": "display_data"
    },
    {
     "name": "stdout",
     "output_type": "stream",
     "text": [
      "initial\n",
      "<mysql.connector.connection_cext.CMySQLConnection object at 0x00000205C2CE2C70>\n"
     ]
    }
   ],
   "source": [
    "Username = widgets.Text(placeholder='Type username',description='Username:')\n",
    "\n",
    "Password = widgets.Password(placeholder='Enter password',description='Password:')\n",
    "\n",
    "user_id = ''\n",
    "\n",
    "button = widgets.Button(description=\"Connect!\")\n",
    "output = widgets.Output()\n",
    "display(Username, Password, button, output)\n",
    "conn = mysql.connector.connect()\n",
    "def on_button_clicked(b):\n",
    "    global user_id \n",
    "    rootconn = mysql.connector.connect(user='root', password='password',host='127.0.0.1',database='theatre')\n",
    "    print(\"initial\")\n",
    "    print(rootconn)\n",
    "    with output:\n",
    "        with rootconn.cursor() as cursor:\n",
    "            global conn\n",
    "            query = 'select * from user where email = \"{username}\" and phone_number like \"%{password}\";'\n",
    "            cursor.execute(query.format(username = Username.value,password = Password.value))\n",
    "            res = cursor.fetchall()\n",
    "            for i in res:\n",
    "                print(i)\n",
    "                user_id = i[0]\n",
    "                print('Welcome User: {name}'.format(name = i[1]))\n",
    "                if(i[6] == 'USER'):\n",
    "                    conn = mysql.connector.connect(user='root', password='password',host='127.0.0.1',database='theatre')\n",
    "                else:\n",
    "                    conn = rootconn\n",
    "        print('Status: Logged In')\n",
    "        print(conn)\n",
    "\n",
    "button.on_click(on_button_clicked)\n",
    "\n",
    "# hoc081098@gmail.com\n",
    "# 135\n",
    "\n"
   ]
  },
  {
   "cell_type": "markdown",
   "id": "8cef8e70",
   "metadata": {},
   "source": [
    "User selects a movie:"
   ]
  },
  {
   "cell_type": "code",
   "execution_count": 4,
   "id": "bdefe8b8",
   "metadata": {},
   "outputs": [
    {
     "data": {
      "application/vnd.jupyter.widget-view+json": {
       "model_id": "237cdf3012794d8fadee871037fad0d6",
       "version_major": 2,
       "version_minor": 0
      },
      "text/plain": [
       "Dropdown(description='Select Movie:', options=(('The Man Standing Next', '5f684ec4e5f57c315cac404d'), ('The Ma…"
      ]
     },
     "metadata": {},
     "output_type": "display_data"
    },
    {
     "data": {
      "application/vnd.jupyter.widget-view+json": {
       "model_id": "34ea567ee3bc4827967a8ff72b5b8489",
       "version_major": 2,
       "version_minor": 0
      },
      "text/plain": [
       "Button(description='Select', style=ButtonStyle())"
      ]
     },
     "metadata": {},
     "output_type": "display_data"
    },
    {
     "data": {
      "application/vnd.jupyter.widget-view+json": {
       "model_id": "e043c68b80ab4666a6893fdd618d96ce",
       "version_major": 2,
       "version_minor": 0
      },
      "text/plain": [
       "Output()"
      ]
     },
     "metadata": {},
     "output_type": "display_data"
    }
   ],
   "source": [
    "movielist = list()\n",
    "button = widgets.Button(description=\"Select\")\n",
    "output = widgets.Output()\n",
    "with conn.cursor() as cursor:\n",
    "    cursor.execute('select title,movie_id from movie;')\n",
    "    res = cursor.fetchall()\n",
    "    for i in res:\n",
    "        tup = (i[0],i[1])\n",
    "        movielist.append(tup)\n",
    "selectmovie = widgets.Dropdown(options=movielist,description='Select Movie:')\n",
    "\n",
    "query_moviegenre = 'select name from genre where genre_id in(select genre_id from movie_genre inner join movie on movie.movie_id = movie_genre.movie_id where movie.movie_id = \"{movieid}\");'\n",
    "query_movieactor = 'select full_name from movie inner join movie_actor on movie_actor.movie_id = movie.movie_id inner join movie_cast on movie_cast.cast_id = movie_actor.actor_id  where movie.movie_id = \"{movieid}\";'\n",
    "query_moviedirector = 'select full_name from movie inner join movie_director on movie_director.movie_id = movie.movie_id inner join movie_cast on movie_cast.cast_id = movie_director.director_id  where movie.movie_id = \"{movieid}\";'\n",
    "query_movie = 'select * from movie where movie_id = \"{movieid}\";'\n",
    "\n",
    "def on_button_clicked(b):\n",
    "    with output:\n",
    "        with conn.cursor() as cursor:\n",
    "            genrelist = list()\n",
    "            actorlist = list()\n",
    "            directorlist = list()\n",
    "            \n",
    "            cursor.execute(query_movie.format(movieid = selectmovie.value))\n",
    "            res = cursor.fetchall()\n",
    "            print('Movie details:')\n",
    "            for i in res:\n",
    "                print('Description:')\n",
    "                print(i[2])\n",
    "                print('Duration:',end=\" \")\n",
    "                print(i[3])\n",
    "                print('Release Date:',end=\" \")\n",
    "                print(i[4])\n",
    "                print('Release Language:',end=\" \")\n",
    "                print(i[5])\n",
    "                \n",
    "                \n",
    "            cursor.execute(query_moviegenre.format(movieid = selectmovie.value))\n",
    "            res = cursor.fetchall()\n",
    "            print('Genre:',end=\" \")\n",
    "            for i in res:      \n",
    "                genrelist.append(i[0])\n",
    "            genres = ', '.join(genrelist)\n",
    "            print(genres)\n",
    "            \n",
    "            cursor.execute(query_moviedirector.format(movieid = selectmovie.value))\n",
    "            res = cursor.fetchall()\n",
    "            print('Directed By:',end=\" \")\n",
    "            for i in res:      \n",
    "                directorlist.append(i[0])\n",
    "            directors = ', '.join(directorlist)\n",
    "            print(directors)\n",
    "            \n",
    "            cursor.execute(query_movieactor.format(movieid = selectmovie.value))\n",
    "            res = cursor.fetchall()\n",
    "            print('Cast:',end=\" \")\n",
    "            for i in res:      \n",
    "                actorlist.append(i[0])\n",
    "            actors = ', '.join(actorlist)\n",
    "            print(actors)\n",
    "                \n",
    "button.on_click(on_button_clicked)\n",
    "\n",
    "display(selectmovie,button,output)\n",
    "\n",
    "\n"
   ]
  },
  {
   "cell_type": "markdown",
   "id": "c1a9d24e",
   "metadata": {},
   "source": [
    "Select Theatre and then select a showtime for the selected movie:"
   ]
  },
  {
   "cell_type": "code",
   "execution_count": 5,
   "id": "e289232b",
   "metadata": {},
   "outputs": [
    {
     "data": {
      "application/vnd.jupyter.widget-view+json": {
       "model_id": "8d983206e82a4548867a67037eb429ca",
       "version_major": 2,
       "version_minor": 0
      },
      "text/plain": [
       "RadioButtons(description='Theatres:', layout=Layout(width='max-content'), options=(('Lotte Cinema Đà Nẵng', '5…"
      ]
     },
     "metadata": {},
     "output_type": "display_data"
    },
    {
     "data": {
      "application/vnd.jupyter.widget-view+json": {
       "model_id": "090aa2d91ea14eaaa6276c5a6a80e850",
       "version_major": 2,
       "version_minor": 0
      },
      "text/plain": [
       "Button(description='Select', style=ButtonStyle())"
      ]
     },
     "metadata": {},
     "output_type": "display_data"
    },
    {
     "data": {
      "application/vnd.jupyter.widget-view+json": {
       "model_id": "20e35e94a64a4a5ba69426cf8198e49f",
       "version_major": 2,
       "version_minor": 0
      },
      "text/plain": [
       "Output()"
      ]
     },
     "metadata": {},
     "output_type": "display_data"
    }
   ],
   "source": [
    "theatrelist = list()\n",
    "showlist = list()\n",
    "\n",
    "button = widgets.Button(description=\"Select\")\n",
    "output = widgets.Output()\n",
    "\n",
    "showquery = 'select showtime_id, theatre.theatre_id, theatre.theatre_name,theatre_name,start_time,end_time from showtime inner join movie on showtime.movie_id = movie.movie_id inner join theatre on showtime.theatre_id = theatre.theatre_id where movie.movie_id = \"{movieid}\" group by start_time,end_time;'\n",
    "\n",
    "with conn.cursor() as cursor:\n",
    "    cursor.execute(showquery.format(movieid = selectmovie.value))\n",
    "    res = cursor.fetchall()\n",
    "    for i in res:\n",
    "        st = str(i[2])#+' Time:'+str(i[1]) + ' to ' + str(i[2])\n",
    "        tup = (st,i[1])\n",
    "        theatrelist.append(tup)\n",
    "        theatreset=set(theatrelist)\n",
    "        \n",
    "theatreradio = widgets.RadioButtons(options=theatreset,layout={'width': 'max-content'},description='Theatres:')\n",
    "\n",
    "showtimeradio = widgets.RadioButtons()\n",
    "\n",
    "def on_button_clicked(b):\n",
    "    with output:\n",
    "        global showtimeradio\n",
    "        output.clear_output()\n",
    "        with conn.cursor() as cursor:\n",
    "            cursor.execute(showquery.format(movieid = selectmovie.value))\n",
    "            res = cursor.fetchall()\n",
    "            st = ''\n",
    "            showlist = list()\n",
    "            for i in res:\n",
    "                if (i[1] == theatreradio.value):\n",
    "                    st = str(i[4]) + ' - ' + str(i[5])\n",
    "                    tup = (st,i[0])\n",
    "                    showlist.append(tup)\n",
    "                    showset=set(showlist)\n",
    "        showtimeradio = widgets.RadioButtons(options=showset,layout={'width': 'max-content'},description='Shows:')        \n",
    "        display(showtimeradio)\n",
    "        \n",
    "        \n",
    "button.on_click(on_button_clicked)\n",
    "\n",
    "display(theatreradio,button,output)\n"
   ]
  },
  {
   "cell_type": "markdown",
   "id": "02134f54",
   "metadata": {},
   "source": [
    "Select Seats: (shows only unbooked seats)"
   ]
  },
  {
   "cell_type": "code",
   "execution_count": 6,
   "id": "33f109c3",
   "metadata": {},
   "outputs": [
    {
     "data": {
      "application/vnd.jupyter.widget-view+json": {
       "model_id": "55777756d49e4ae9a57ef42821e2b10b",
       "version_major": 2,
       "version_minor": 0
      },
      "text/plain": [
       "SelectMultiple(description='Select Seat:', layout=Layout(height='200px', width='70%'), options=(('A - 1', ('5f…"
      ]
     },
     "metadata": {},
     "output_type": "display_data"
    }
   ],
   "source": [
    "#book seat\n",
    "#select seat\n",
    "\n",
    "seattoggles = widgets.SelectMultiple()\n",
    "\n",
    "rowlist = list()\n",
    "\n",
    "\n",
    "query_emptyseats = 'select seats.seat_id,room,row_,column_,ticket_id from seats inner join ticket on ticket.seat_id = seats.seat_id where showtime_id = \"{showtimeid}\" and booking_id is null;'\n",
    "\n",
    "with conn.cursor() as cursor:\n",
    "    cursor.execute(query_emptyseats.format(showtimeid = showtimeradio.value))\n",
    "    res = cursor.fetchall()\n",
    "    for i in res:\n",
    "        st = str(i[2]) + ' - ' + str(i[3])\n",
    "        st_ids = (i[0],i[4])\n",
    "        tup = (st,st_ids)\n",
    "        rowlist.append(tup)\n",
    "seattoggles = widgets.SelectMultiple(options=rowlist,description='Select Seat:',layout=widgets.Layout(width='70%', height='200px'))\n",
    "            \n",
    "\n",
    "\n",
    "display(seattoggles)\n",
    "\n",
    "#4 seats only"
   ]
  },
  {
   "cell_type": "markdown",
   "id": "bf83597c",
   "metadata": {},
   "source": [
    "Applying discount on basis of credit points:"
   ]
  },
  {
   "cell_type": "code",
   "execution_count": 7,
   "id": "fe2c77a3",
   "metadata": {},
   "outputs": [
    {
     "name": "stdout",
     "output_type": "stream",
     "text": [
      "Charges:  140\n",
      "Payable after applying credit score:  131\n"
     ]
    }
   ],
   "source": [
    "#generate booking id\n",
    "\n",
    "#generate bill\n",
    "actbill_query = 'select sum(price)/1000 from ticket where ticket_id in {tickets};'\n",
    "disc_bill = \"select calc_discount('{userid}',{amt});\"\n",
    "#amount = int()\n",
    "\n",
    "tickets = list()\n",
    "seat = iter(seattoggles.value)\n",
    "length = len(seattoggles.value)\n",
    "for t in range(4):\n",
    "    if(t < length):\n",
    "        tickets.append(next(seat)[1])\n",
    "    else:\n",
    "        tickets.append(\"\")\n",
    "    tick_ids = tuple(tickets)\n",
    "\n",
    "# for t in seattoggles.value:\n",
    "#     tickets.append(t[1])\n",
    "# tick_ids = tuple(tickets)\n",
    "\n",
    "with conn.cursor() as cursor:\n",
    "    cursor.execute(actbill_query.format(tickets = tick_ids))\n",
    "    res = cursor.fetchall()\n",
    "    for i in res:\n",
    "        print('Charges: ',int(i[0]))\n",
    "        amount = int(i[0])        \n",
    "    cursor.execute(disc_bill.format(userid = user_id,amt = amount))\n",
    "    #cursor.execute('select @n;')\n",
    "    res = cursor.fetchall()\n",
    "    for i in res:\n",
    "        print('Payable after applying credit score: ',i[0])\n",
    "        amount = int(i[0])\n",
    "\n",
    "#20percent discount to users with 5 old bookings    \n",
    "#take payment\n",
    "#payment complete\n",
    "#insert payment id to payment table and booking table\n",
    "#insert booking id to booking table and ticket table\n",
    "#print(user_id)\n",
    "#seattoggles.value"
   ]
  },
  {
   "cell_type": "markdown",
   "id": "e5eae8c8",
   "metadata": {},
   "source": [
    "Generate new Booking and payment IDs:"
   ]
  },
  {
   "cell_type": "code",
   "execution_count": 8,
   "id": "d520d248",
   "metadata": {},
   "outputs": [
    {
     "name": "stdout",
     "output_type": "stream",
     "text": [
      "Booking ID:  1IU0mY7tP1EhslUt\n",
      "Payment ID:  wwWoA4TVkomu87MM\n"
     ]
    }
   ],
   "source": [
    "booking_id = ''.join(random.choices(string.ascii_letters + string.digits, k=16))\n",
    "paymentid = ''.join(random.choices(string.ascii_letters + string.digits, k=16))\n",
    "print(\"Booking ID: \",booking_id)\n",
    "print(\"Payment ID: \",paymentid)"
   ]
  },
  {
   "cell_type": "markdown",
   "id": "9bfab487",
   "metadata": {},
   "source": [
    "Make payment by adding card number:"
   ]
  },
  {
   "cell_type": "code",
   "execution_count": 10,
   "id": "5421d00b",
   "metadata": {},
   "outputs": [
    {
     "data": {
      "application/vnd.jupyter.widget-view+json": {
       "model_id": "d68e79423ce044ad95768f0d5e78e5c0",
       "version_major": 2,
       "version_minor": 0
      },
      "text/plain": [
       "Text(value='', description=' Enter Card:', placeholder='Enter Card Number')"
      ]
     },
     "metadata": {},
     "output_type": "display_data"
    },
    {
     "data": {
      "application/vnd.jupyter.widget-view+json": {
       "model_id": "e8442e1e8f2141f98905499b04947aee",
       "version_major": 2,
       "version_minor": 0
      },
      "text/plain": [
       "Button(description='Book tickets', style=ButtonStyle())"
      ]
     },
     "metadata": {},
     "output_type": "display_data"
    },
    {
     "data": {
      "application/vnd.jupyter.widget-view+json": {
       "model_id": "4b8aefdb7d88449db75ddf69e463ab0f",
       "version_major": 2,
       "version_minor": 0
      },
      "text/plain": [
       "Output()"
      ]
     },
     "metadata": {},
     "output_type": "display_data"
    }
   ],
   "source": [
    "# enter card number\n",
    "cardno = widgets.Text(placeholder='Enter Card Number',description=' Enter Card:')\n",
    "button = widgets.Button(description=\"Book tickets\")\n",
    "output = widgets.Output()\n",
    "\n",
    "def on_button_clicked(b):\n",
    "    with output:\n",
    "        output.clear_output()\n",
    "        query_makebooking = ('call make_bookings(\"{bid}\",\"{uid}\",\"{shtid}\",\"{pid}\",\"{tid1}\",\"{tid2}\",\"{tid3}\",\"{tid4}\",\"{cn}\",\"{tp}\");'.format(\n",
    "        bid = booking_id,\n",
    "        uid = user_id,\n",
    "        shtid = showtimeradio.value,\n",
    "        pid = paymentid,\n",
    "        tid1 = tick_ids[0],\n",
    "        tid2 = tick_ids[1],\n",
    "        tid3 = tick_ids[2],\n",
    "        tid4 = tick_ids[3],\n",
    "        cn = cardno.value,\n",
    "        tp =  amount\n",
    "        ))\n",
    "\n",
    "        with conn.cursor() as cursor:\n",
    "            #print(query_makebooking)\n",
    "            cursor.execute(query_makebooking)\n",
    "            cursor.execute('commit;')\n",
    "            print('Booking Successfull')\n",
    "\n",
    "button.on_click(on_button_clicked)\n",
    "\n",
    "display(cardno,button,output)\n"
   ]
  },
  {
   "cell_type": "markdown",
   "id": "4eebfab2",
   "metadata": {},
   "source": [
    "Print tickets for customer:"
   ]
  },
  {
   "cell_type": "code",
   "execution_count": 11,
   "id": "d0c8eb73",
   "metadata": {},
   "outputs": [
    {
     "name": "stdout",
     "output_type": "stream",
     "text": [
      "Tickets:\n"
     ]
    },
    {
     "data": {
      "text/html": [
       "<div>\n",
       "<style scoped>\n",
       "    .dataframe tbody tr th:only-of-type {\n",
       "        vertical-align: middle;\n",
       "    }\n",
       "\n",
       "    .dataframe tbody tr th {\n",
       "        vertical-align: top;\n",
       "    }\n",
       "\n",
       "    .dataframe thead th {\n",
       "        text-align: right;\n",
       "    }\n",
       "</style>\n",
       "<table border=\"1\" class=\"dataframe\">\n",
       "  <thead>\n",
       "    <tr style=\"text-align: right;\">\n",
       "      <th></th>\n",
       "      <th>Movie</th>\n",
       "      <th>Audi</th>\n",
       "      <th>Row</th>\n",
       "      <th>Seat</th>\n",
       "      <th>Theatre</th>\n",
       "      <th>Location</th>\n",
       "      <th>Contact Number(Theatre)</th>\n",
       "      <th>Booking_Confirmation_No</th>\n",
       "      <th>Form (time)</th>\n",
       "      <th>To</th>\n",
       "    </tr>\n",
       "  </thead>\n",
       "  <tbody>\n",
       "    <tr>\n",
       "      <th>0</th>\n",
       "      <td>The Man Standing Next</td>\n",
       "      <td>2D 4</td>\n",
       "      <td>A</td>\n",
       "      <td>3</td>\n",
       "      <td>Galaxy - Đà Nẵng</td>\n",
       "      <td>Tầng 3, TTTM Coop Mart, 478 Điện Biên Phủ, Quậ...</td>\n",
       "      <td>02363739888</td>\n",
       "      <td>1IU0mY7tP1EhslUt</td>\n",
       "      <td>2020-10-18 02:00:00</td>\n",
       "      <td>2020-10-18 03:54:00</td>\n",
       "    </tr>\n",
       "    <tr>\n",
       "      <th>1</th>\n",
       "      <td>The Man Standing Next</td>\n",
       "      <td>2D 4</td>\n",
       "      <td>A</td>\n",
       "      <td>4</td>\n",
       "      <td>Galaxy - Đà Nẵng</td>\n",
       "      <td>Tầng 3, TTTM Coop Mart, 478 Điện Biên Phủ, Quậ...</td>\n",
       "      <td>02363739888</td>\n",
       "      <td>1IU0mY7tP1EhslUt</td>\n",
       "      <td>2020-10-18 02:00:00</td>\n",
       "      <td>2020-10-18 03:54:00</td>\n",
       "    </tr>\n",
       "  </tbody>\n",
       "</table>\n",
       "</div>"
      ],
      "text/plain": [
       "                   Movie  Audi Row Seat           Theatre  \\\n",
       "0  The Man Standing Next  2D 4   A    3  Galaxy - Đà Nẵng   \n",
       "1  The Man Standing Next  2D 4   A    4  Galaxy - Đà Nẵng   \n",
       "\n",
       "                                            Location Contact Number(Theatre)  \\\n",
       "0  Tầng 3, TTTM Coop Mart, 478 Điện Biên Phủ, Quậ...             02363739888   \n",
       "1  Tầng 3, TTTM Coop Mart, 478 Điện Biên Phủ, Quậ...             02363739888   \n",
       "\n",
       "  Booking_Confirmation_No         Form (time)                  To  \n",
       "0        1IU0mY7tP1EhslUt 2020-10-18 02:00:00 2020-10-18 03:54:00  \n",
       "1        1IU0mY7tP1EhslUt 2020-10-18 02:00:00 2020-10-18 03:54:00  "
      ]
     },
     "metadata": {},
     "output_type": "display_data"
    }
   ],
   "source": [
    "from pandas import DataFrame\n",
    "print(\"Tickets:\")\n",
    "query_viewtickets = \"select * from ticket_information where Booking_Confirmation_No = '{bookingid}';\"\n",
    "with conn.cursor() as cursor:\n",
    "    cursor.execute(query_viewtickets.format(bookingid = booking_id))\n",
    "    df = DataFrame(cursor.fetchall())\n",
    "    df.columns = cursor.column_names\n",
    "    display(df)\n",
    "    \n"
   ]
  },
  {
   "cell_type": "markdown",
   "id": "deec5b55",
   "metadata": {},
   "source": [
    "Print bill for customer:"
   ]
  },
  {
   "cell_type": "code",
   "execution_count": 12,
   "id": "8f9c17eb",
   "metadata": {},
   "outputs": [
    {
     "name": "stdout",
     "output_type": "stream",
     "text": [
      "Bill:\n"
     ]
    },
    {
     "data": {
      "text/html": [
       "<div>\n",
       "<style scoped>\n",
       "    .dataframe tbody tr th:only-of-type {\n",
       "        vertical-align: middle;\n",
       "    }\n",
       "\n",
       "    .dataframe tbody tr th {\n",
       "        vertical-align: top;\n",
       "    }\n",
       "\n",
       "    .dataframe thead th {\n",
       "        text-align: right;\n",
       "    }\n",
       "</style>\n",
       "<table border=\"1\" class=\"dataframe\">\n",
       "  <thead>\n",
       "    <tr style=\"text-align: right;\">\n",
       "      <th></th>\n",
       "      <th>Bill_Number</th>\n",
       "      <th>Movie</th>\n",
       "      <th>Theatre</th>\n",
       "      <th>Theatre Contact Number</th>\n",
       "      <th>Payee</th>\n",
       "      <th>User Email</th>\n",
       "      <th>Amount Paid</th>\n",
       "    </tr>\n",
       "  </thead>\n",
       "  <tbody>\n",
       "    <tr>\n",
       "      <th>0</th>\n",
       "      <td>wwWoA4TVkomu87MM</td>\n",
       "      <td>The Man Standing Next</td>\n",
       "      <td>Galaxy - Đà Nẵng</td>\n",
       "      <td>02363739888</td>\n",
       "      <td>Petrus Hoc</td>\n",
       "      <td>hoc081098@gmail.com</td>\n",
       "      <td>131</td>\n",
       "    </tr>\n",
       "  </tbody>\n",
       "</table>\n",
       "</div>"
      ],
      "text/plain": [
       "        Bill_Number                  Movie           Theatre  \\\n",
       "0  wwWoA4TVkomu87MM  The Man Standing Next  Galaxy - Đà Nẵng   \n",
       "\n",
       "  Theatre Contact Number       Payee           User Email  Amount Paid  \n",
       "0            02363739888  Petrus Hoc  hoc081098@gmail.com          131  "
      ]
     },
     "metadata": {},
     "output_type": "display_data"
    }
   ],
   "source": [
    "from pandas import DataFrame\n",
    "print(\"Bill:\")\n",
    "query_viewbill = \"select * from user_bill where Bill_Number = '{payid}';\"\n",
    "with conn.cursor() as cursor:\n",
    "    cursor.execute(query_viewbill.format(payid = paymentid))\n",
    "    df = DataFrame(cursor.fetchall())\n",
    "    df.columns = cursor.column_names\n",
    "    display(df)\n",
    "    \n"
   ]
  },
  {
   "cell_type": "markdown",
   "id": "d7e18fe2",
   "metadata": {},
   "source": [
    "Record user`s review for a movie:"
   ]
  },
  {
   "cell_type": "code",
   "execution_count": 13,
   "id": "50427293",
   "metadata": {},
   "outputs": [
    {
     "data": {
      "application/vnd.jupyter.widget-view+json": {
       "model_id": "f4539a5ed2ea4920866d0c6bc1f44b95",
       "version_major": 2,
       "version_minor": 0
      },
      "text/plain": [
       "Dropdown(description='Select Movie:', options=(('The Man Standing Next', '5f684ec4e5f57c315cac404d'), ('The Ma…"
      ]
     },
     "metadata": {},
     "output_type": "display_data"
    },
    {
     "data": {
      "application/vnd.jupyter.widget-view+json": {
       "model_id": "b441b0fbb560416c9352cbaea9504684",
       "version_major": 2,
       "version_minor": 0
      },
      "text/plain": [
       "Textarea(value='', description='Comments:', placeholder='Type a review')"
      ]
     },
     "metadata": {},
     "output_type": "display_data"
    },
    {
     "data": {
      "application/vnd.jupyter.widget-view+json": {
       "model_id": "817210b3f1f8484eb8af0575b7d5d906",
       "version_major": 2,
       "version_minor": 0
      },
      "text/plain": [
       "RadioButtons(description='Rating:', layout=Layout(width='max-content'), options=(1, 2, 3, 4, 5), value=1)"
      ]
     },
     "metadata": {},
     "output_type": "display_data"
    },
    {
     "data": {
      "application/vnd.jupyter.widget-view+json": {
       "model_id": "484b9413b5f4457abd3d6519e52c5997",
       "version_major": 2,
       "version_minor": 0
      },
      "text/plain": [
       "Button(description='Submit', style=ButtonStyle())"
      ]
     },
     "metadata": {},
     "output_type": "display_data"
    },
    {
     "data": {
      "application/vnd.jupyter.widget-view+json": {
       "model_id": "e1ebcf887ebf428ea92fb2e9f54bf7d2",
       "version_major": 2,
       "version_minor": 0
      },
      "text/plain": [
       "Output()"
      ]
     },
     "metadata": {},
     "output_type": "display_data"
    }
   ],
   "source": [
    "#user rates a movie\n",
    "movielist = list()\n",
    "with conn.cursor() as cursor:\n",
    "    cursor.execute('select title,movie_id from movie;')\n",
    "    res = cursor.fetchall()\n",
    "    for i in res:\n",
    "        tup = (i[0],i[1])\n",
    "        movielist.append(tup)\n",
    "selectmovietorev = widgets.Dropdown(options=movielist,description='Select Movie:')\n",
    "\n",
    "write_review = widgets.Textarea(placeholder='Type a review',description='Comments:')\n",
    "\n",
    "review_radio = widgets.RadioButtons(options=[1,2,3,4,5],layout={'width': 'max-content'},description='Rating:')\n",
    "\n",
    "button = widgets.Button(description=\"Submit\")\n",
    "output = widgets.Output()\n",
    "\n",
    "\n",
    "def on_button_clicked(b):\n",
    "    with output:\n",
    "        output.clear_output()\n",
    "        rating_id = ''.join(random.choices(string.ascii_letters + string.digits, k=16))\n",
    "        query_insertreview = ('insert into rating values(\"{rid}\",\"{uid}\",\"{mid}\",\"{rev}\",\"{revstar}\");'.format(\n",
    "\n",
    "        rid = rating_id,\n",
    "        uid = user_id,\n",
    "        mid = selectmovietorev.value,\n",
    "        rev = write_review.value,\n",
    "        revstar = review_radio.value\n",
    "        ))\n",
    "\n",
    "        with conn.cursor() as cursor:\n",
    "            cursor.execute(query_insertreview)\n",
    "            cursor.execute('commit;')\n",
    "            print('Review Recorded with ID',rating_id)\n",
    "\n",
    "button.on_click(on_button_clicked)\n",
    "\n",
    "\n",
    "display(selectmovietorev,write_review,review_radio,button,output)\n"
   ]
  },
  {
   "cell_type": "markdown",
   "id": "178c46ae",
   "metadata": {},
   "source": [
    "### Admin interface"
   ]
  },
  {
   "cell_type": "markdown",
   "id": "699f75b6",
   "metadata": {},
   "source": [
    "insert new movie and create a show in given theatres:"
   ]
  },
  {
   "cell_type": "code",
   "execution_count": 14,
   "id": "a8ad3761",
   "metadata": {},
   "outputs": [
    {
     "data": {
      "application/vnd.jupyter.widget-view+json": {
       "model_id": "fe6584cd3a4a4455b8be913c3d44edbb",
       "version_major": 2,
       "version_minor": 0
      },
      "text/plain": [
       "Text(value='', description='Title:', placeholder='Enter Title')"
      ]
     },
     "metadata": {},
     "output_type": "display_data"
    },
    {
     "data": {
      "application/vnd.jupyter.widget-view+json": {
       "model_id": "4541f9d0aed64c6085a593dc6878ebe7",
       "version_major": 2,
       "version_minor": 0
      },
      "text/plain": [
       "Text(value='', description='Overview:', placeholder='Enter Overview')"
      ]
     },
     "metadata": {},
     "output_type": "display_data"
    },
    {
     "data": {
      "application/vnd.jupyter.widget-view+json": {
       "model_id": "4958372571d74e32aa8b6a207b7eecb4",
       "version_major": 2,
       "version_minor": 0
      },
      "text/plain": [
       "Text(value='', description='Duration:', placeholder='Enter Duration in Hrs')"
      ]
     },
     "metadata": {},
     "output_type": "display_data"
    },
    {
     "data": {
      "application/vnd.jupyter.widget-view+json": {
       "model_id": "7eac599fadb04f93aaabca7c85cac69f",
       "version_major": 2,
       "version_minor": 0
      },
      "text/plain": [
       "Text(value='', description='Release_date:', placeholder='Enter Release Date')"
      ]
     },
     "metadata": {},
     "output_type": "display_data"
    },
    {
     "data": {
      "application/vnd.jupyter.widget-view+json": {
       "model_id": "2e585deba2624c4e8ce51050a4f2fa7e",
       "version_major": 2,
       "version_minor": 0
      },
      "text/plain": [
       "Text(value='', description='Original Language:', placeholder='Enter Original Language')"
      ]
     },
     "metadata": {},
     "output_type": "display_data"
    },
    {
     "data": {
      "application/vnd.jupyter.widget-view+json": {
       "model_id": "eeba905274d0406198d58688ffe0e179",
       "version_major": 2,
       "version_minor": 0
      },
      "text/plain": [
       "Text(value='', description='Age type:', placeholder='Enter Age Type')"
      ]
     },
     "metadata": {},
     "output_type": "display_data"
    },
    {
     "data": {
      "application/vnd.jupyter.widget-view+json": {
       "model_id": "13b5fc9fe92d42d6af1d90267b3ce886",
       "version_major": 2,
       "version_minor": 0
      },
      "text/plain": [
       "SelectMultiple(description='Select Genres (Max2):', layout=Layout(height='200px', width='70%'), options=(('Act…"
      ]
     },
     "metadata": {},
     "output_type": "display_data"
    },
    {
     "data": {
      "application/vnd.jupyter.widget-view+json": {
       "model_id": "36272f77c2ee48bba79fad01d703a2ea",
       "version_major": 2,
       "version_minor": 0
      },
      "text/plain": [
       "Text(value='', description='Director:', placeholder='Enter Director')"
      ]
     },
     "metadata": {},
     "output_type": "display_data"
    },
    {
     "data": {
      "application/vnd.jupyter.widget-view+json": {
       "model_id": "08ee413389424c6996dae31e2a6fc99c",
       "version_major": 2,
       "version_minor": 0
      },
      "text/plain": [
       "Text(value='', description='Actor:', placeholder='Enter Actor')"
      ]
     },
     "metadata": {},
     "output_type": "display_data"
    },
    {
     "data": {
      "application/vnd.jupyter.widget-view+json": {
       "model_id": "7e52c059dc35434d80736df93bcdd9ed",
       "version_major": 2,
       "version_minor": 0
      },
      "text/plain": [
       "Button(description='Submit', style=ButtonStyle())"
      ]
     },
     "metadata": {},
     "output_type": "display_data"
    },
    {
     "data": {
      "application/vnd.jupyter.widget-view+json": {
       "model_id": "8726d82adc094c4c97fece949e4ea579",
       "version_major": 2,
       "version_minor": 0
      },
      "text/plain": [
       "Output()"
      ]
     },
     "metadata": {},
     "output_type": "display_data"
    }
   ],
   "source": [
    "#insert new movie and create a show in given theatres\n",
    "\n",
    "newmovie_id = ''.join(random.choices(string.ascii_letters + string.digits, k=16))\n",
    "\n",
    "Title = widgets.Text(placeholder='Enter Title',description='Title:')\n",
    "Overview = widgets.Text(placeholder='Enter Overview',description='Overview:')\n",
    "Duration = widgets.Text(placeholder='Enter Duration in Hrs',description='Duration:')\n",
    "Release_date = widgets.Text(placeholder='Enter Release Date',description='Release_date:')\n",
    "original_language = widgets.Text(placeholder='Enter Original Language',description='Original Language:')\n",
    "age_type = widgets.Text(placeholder='Enter Age Type',description='Age type:')\n",
    "\n",
    "genrelist = list()\n",
    "with conn.cursor() as cursor:\n",
    "    cursor.execute('select name,genre_id from genre;')\n",
    "    res = cursor.fetchall()\n",
    "    for i in res:\n",
    "        tup = (i[0],i[1])\n",
    "        genrelist.append(tup)\n",
    "\n",
    "genremsel = widgets.SelectMultiple(options=genrelist,description='Select Genres (Max2):',layout=widgets.Layout(width='70%', height='200px'))\n",
    "\n",
    "\n",
    "Director = widgets.Text(placeholder='Enter Director',description='Director:')\n",
    "Actor = widgets.Text(placeholder='Enter Actor',description='Actor:')\n",
    "\n",
    "\n",
    "button = widgets.Button(description=\"Submit\")\n",
    "output = widgets.Output()\n",
    "\n",
    "\n",
    "def on_button_clicked(b):\n",
    "    with output:\n",
    "        output.clear_output()\n",
    "        genres = list()\n",
    "        gen = iter(genremsel.value)\n",
    "        length = len(genremsel.value)\n",
    "        for t in range(2):\n",
    "            if(t < length):\n",
    "                genres.append(next(gen))\n",
    "            else:\n",
    "                genres.append(\"\")\n",
    "        genreids = tuple(genres)\n",
    "    \n",
    "        print(genreids)\n",
    "\n",
    "        newdir_id = ''.join(random.choices(string.ascii_letters + string.digits, k=16))\n",
    "        newact_id = ''.join(random.choices(string.ascii_letters + string.digits, k=16))\n",
    "\n",
    "        query_insertmovie = ('call new_movie(\"{mid}\",\"{mtitle}\",\"{mov}\",\"{mduration}\",\"{releaseD}\",\"{orlang}\",\"{agetype}\",\"{g1}\",\"{g2}\",\"{actid}\",\"{actn}\",\"{dctid}\",\"{dctn}\");'.format(\n",
    "            \n",
    "        mid = newmovie_id,\n",
    "        mtitle = Title.value,\n",
    "        mov = Overview.value,\n",
    "        mduration = Duration.value,\n",
    "        releaseD = Release_date.value,\n",
    "        orlang = original_language.value,\n",
    "        agetype = age_type.value,\n",
    "        g1 = genreids[0],\n",
    "        g2 = genreids[1],\n",
    "        actid = newact_id,\n",
    "        actn = Actor.value,\n",
    "        dctid = newdir_id,\n",
    "        dctn = Director.value\n",
    "        ))\n",
    "        \n",
    "        print(query_insertmovie)\n",
    "\n",
    "        with conn.cursor() as cursor:\n",
    "            #cursor.execute(query_insertmovie)\n",
    "            #cursor.execute('commit;')\n",
    "            print('Movie inserted with ID: ',newmovie_id)\n",
    "\n",
    "button.on_click(on_button_clicked)\n",
    "\n",
    "\n",
    "display(Title,Overview,Duration,Release_date,original_language,age_type,genremsel,Director,Actor,button,output)\n",
    "\n",
    "#director  Woo Min-ho\n"
   ]
  },
  {
   "cell_type": "markdown",
   "id": "81ed7f45",
   "metadata": {},
   "source": [
    "delete a movie and its shows:"
   ]
  },
  {
   "cell_type": "code",
   "execution_count": 15,
   "id": "8c57826e",
   "metadata": {},
   "outputs": [
    {
     "data": {
      "application/vnd.jupyter.widget-view+json": {
       "model_id": "097dcd947ef24954806d4564e7badae3",
       "version_major": 2,
       "version_minor": 0
      },
      "text/plain": [
       "Dropdown(description='Select Movie:', options=(('The Man Standing Next', '5f684ec4e5f57c315cac404d'), ('The Ma…"
      ]
     },
     "metadata": {},
     "output_type": "display_data"
    },
    {
     "data": {
      "application/vnd.jupyter.widget-view+json": {
       "model_id": "1c750659d4c4417eb4ae6475847f981f",
       "version_major": 2,
       "version_minor": 0
      },
      "text/plain": [
       "Button(description='Delete', style=ButtonStyle())"
      ]
     },
     "metadata": {},
     "output_type": "display_data"
    },
    {
     "data": {
      "application/vnd.jupyter.widget-view+json": {
       "model_id": "3d5c34d5a2094a49950c3c412507d383",
       "version_major": 2,
       "version_minor": 0
      },
      "text/plain": [
       "Output()"
      ]
     },
     "metadata": {},
     "output_type": "display_data"
    }
   ],
   "source": [
    "#delete a movie and its shows\n",
    "\n",
    "movielist = list()\n",
    "with conn.cursor() as cursor:\n",
    "    cursor.execute('select title,movie_id from movie;')\n",
    "    res = cursor.fetchall()\n",
    "    for i in res:\n",
    "        tup = (i[0],i[1])\n",
    "        movielist.append(tup)\n",
    "selectmov = widgets.Dropdown(options=movielist,description='Select Movie:')\n",
    "button = widgets.Button(description=\"Delete\")\n",
    "output = widgets.Output()\n",
    "\n",
    "def on_button_clicked(b):\n",
    "    with output:\n",
    "        output.clear_output()\n",
    "        with conn.cursor() as cursor:\n",
    "            cursor.execute('delete from movie where movie_id = \"{mid}\";'.format(mid = selectmov.value))\n",
    "        print('Movie deleted.')\n",
    "button.on_click(on_button_clicked)\n",
    "\n",
    "display(selectmov,button,output)\n",
    "\n",
    "\n",
    "\n"
   ]
  },
  {
   "cell_type": "markdown",
   "id": "10096ff5",
   "metadata": {},
   "source": [
    "Create new Show at a showtime for a selected theatre:"
   ]
  },
  {
   "cell_type": "code",
   "execution_count": 16,
   "id": "2d9975ce",
   "metadata": {},
   "outputs": [
    {
     "data": {
      "application/vnd.jupyter.widget-view+json": {
       "model_id": "e47d3bf660184e81a286ab3dcba39fa9",
       "version_major": 2,
       "version_minor": 0
      },
      "text/plain": [
       "Dropdown(description='Select Movie:', options=(('The Man Standing Next', '5f684ec4e5f57c315cac404d'), ('The Ma…"
      ]
     },
     "metadata": {},
     "output_type": "display_data"
    },
    {
     "data": {
      "application/vnd.jupyter.widget-view+json": {
       "model_id": "60603954c9a14aae92bb0e86354ba739",
       "version_major": 2,
       "version_minor": 0
      },
      "text/plain": [
       "Dropdown(description='Select Theatre:', options=(('Galaxy - Đà Nẵng', '5f68b34045ab693e24bd9d70'), ('Starlight…"
      ]
     },
     "metadata": {},
     "output_type": "display_data"
    },
    {
     "data": {
      "application/vnd.jupyter.widget-view+json": {
       "model_id": "3a05a7bae68e4493b162550d142aa966",
       "version_major": 2,
       "version_minor": 0
      },
      "text/plain": [
       "Text(value='', description='Ticket Price:', placeholder='Enter Price')"
      ]
     },
     "metadata": {},
     "output_type": "display_data"
    },
    {
     "data": {
      "application/vnd.jupyter.widget-view+json": {
       "model_id": "dc95f4d598a140278fb07dd8e7d90d13",
       "version_major": 2,
       "version_minor": 0
      },
      "text/plain": [
       "Text(value='', description='Ticket ID:', placeholder='Enter Ticket ID Prefix')"
      ]
     },
     "metadata": {},
     "output_type": "display_data"
    },
    {
     "data": {
      "application/vnd.jupyter.widget-view+json": {
       "model_id": "899a8616606a4051a1a7b7dc5af41719",
       "version_major": 2,
       "version_minor": 0
      },
      "text/plain": [
       "Button(description='Submit', style=ButtonStyle())"
      ]
     },
     "metadata": {},
     "output_type": "display_data"
    },
    {
     "data": {
      "application/vnd.jupyter.widget-view+json": {
       "model_id": "24155e447f2c4734b6a9a96b9d83ffdc",
       "version_major": 2,
       "version_minor": 0
      },
      "text/plain": [
       "Output()"
      ]
     },
     "metadata": {},
     "output_type": "display_data"
    }
   ],
   "source": [
    "#create new show\n",
    "\n",
    "newshowtime_id = ''.join(random.choices(string.ascii_letters + string.digits, k=16))\n",
    "\n",
    "movielist = list()\n",
    "theatrelist = list()\n",
    "with conn.cursor() as cursor:\n",
    "    cursor.execute('select title,movie_id from movie;')\n",
    "    res = cursor.fetchall()\n",
    "    for i in res:\n",
    "        tup = (i[0],i[1])\n",
    "        movielist.append(tup)\n",
    "selectmov = widgets.Dropdown(options=movielist,description='Select Movie:')\n",
    "\n",
    "with conn.cursor() as cursor:\n",
    "    cursor.execute('select Theatre_name,theatre_id from theatre;')\n",
    "    res = cursor.fetchall()\n",
    "    for i in res:\n",
    "        tup = (i[0],i[1])\n",
    "        theatrelist.append(tup)\n",
    "selecttheatre = widgets.Dropdown(options=theatrelist,description='Select Theatre:')\n",
    "ticp = widgets.Text(placeholder='Enter Price',description='Ticket Price:')\n",
    "ticstr = widgets.Text(placeholder='Enter Ticket ID Prefix',description='Ticket ID:')\n",
    "\n",
    "button = widgets.Button(description=\"Submit\")\n",
    "output = widgets.Output()\n",
    "movie_duration = int()\n",
    "roomlist = list()\n",
    "selectroom = widgets.Dropdown()\n",
    "starttime  = widgets.DatetimePicker()\n",
    "def on_button_clicked(b):\n",
    "    with output:\n",
    "        global selectroom, roomlist,movie_duration,starttime\n",
    "        output.clear_output()\n",
    "        with conn.cursor() as cursor:\n",
    "            cursor.execute('select room from seats where Theatre_id = \"{theatre}\" group by room;'.format(theatre = selecttheatre.value))\n",
    "            res = cursor.fetchall()\n",
    "            for i in res:\n",
    "                r = i[0]\n",
    "                roomlist.append(r)\n",
    "        selectroom = widgets.Dropdown(options=roomlist,description='Select Room:')\n",
    "        display(selectroom)\n",
    "        starttime  = widgets.DatetimePicker( description='Pick a Time',disabled=False)\n",
    "        display(starttime)\n",
    "        with conn.cursor() as cursor:\n",
    "            cursor.execute('select Duration from movie where movie_id = \"{movie}\";'.format(movie = selectmov.value))\n",
    "            res = cursor.fetchall()\n",
    "            for i in res:\n",
    "                movie_duration = int(i[0])\n",
    "                \n",
    "button.on_click(on_button_clicked)\n",
    "\n",
    "display(selectmov,selecttheatre,ticp,ticstr,button,output)\n",
    "\n"
   ]
  },
  {
   "cell_type": "code",
   "execution_count": 18,
   "id": "b2258515",
   "metadata": {},
   "outputs": [
    {
     "name": "stdout",
     "output_type": "stream",
     "text": [
      "call new_showtime(\"7LfUEE7jHbniEE3t\",\"5f684ec4e5f57c315cac404d\",\"5f68b34045ab693e24bd9d70\",\"2022-12-16T23:10:00-05:00\",\"2022-12-17T01:04:00-05:00\",\"2D 4\",80,\"73856add\");\n",
      "Show inserted with ID:  7LfUEE7jHbniEE3t\n"
     ]
    }
   ],
   "source": [
    "\n",
    "start_time = starttime.value.isoformat()        \n",
    "endtime = starttime.value + timedelta(minutes=movie_duration)\n",
    "end_time = endtime.isoformat()\n",
    "        \n",
    "query_insertshow = ('call new_showtime(\"{shid}\",\"{mid}\",\"{theid}\",\"{st}\",\"{endt}\",\"{selroom}\",{tp},\"{tickstr}\");'.format(\n",
    "            \n",
    "    shid = newshowtime_id,\n",
    "    mid = selectmov.value,\n",
    "    theid = selecttheatre.value,\n",
    "    st = start_time,\n",
    "    endt = end_time,\n",
    "    selroom = selectroom.value,\n",
    "    tp = int(ticp.value),\n",
    "    tickstr = ticstr.value\n",
    "))\n",
    "        \n",
    "print(query_insertshow)\n",
    "\n",
    "with conn.cursor() as cursor:\n",
    "    cursor.execute(query_insertshow)\n",
    "    cursor.execute('commit;')\n",
    "    print('Show inserted with ID: ',newshowtime_id)\n"
   ]
  },
  {
   "cell_type": "markdown",
   "id": "7d1af3b5",
   "metadata": {},
   "source": [
    "delete shows for a movie:"
   ]
  },
  {
   "cell_type": "code",
   "execution_count": 19,
   "id": "af5ea980",
   "metadata": {},
   "outputs": [
    {
     "data": {
      "application/vnd.jupyter.widget-view+json": {
       "model_id": "d420b6eb69d9417683d8044c52cdf3b9",
       "version_major": 2,
       "version_minor": 0
      },
      "text/plain": [
       "Dropdown(description='Select Movie:', options=(('The Man Standing Next', '5f684ec4e5f57c315cac404d'), ('The Ma…"
      ]
     },
     "metadata": {},
     "output_type": "display_data"
    },
    {
     "data": {
      "application/vnd.jupyter.widget-view+json": {
       "model_id": "25d6e02e8f9442aeb1172a258e2b5145",
       "version_major": 2,
       "version_minor": 0
      },
      "text/plain": [
       "Button(description='Select', style=ButtonStyle())"
      ]
     },
     "metadata": {},
     "output_type": "display_data"
    },
    {
     "data": {
      "application/vnd.jupyter.widget-view+json": {
       "model_id": "becaf2d7aa144bb48bb27c80514eb505",
       "version_major": 2,
       "version_minor": 0
      },
      "text/plain": [
       "Output()"
      ]
     },
     "metadata": {},
     "output_type": "display_data"
    }
   ],
   "source": [
    "# delete shows for a movie\n",
    "movielist = list()\n",
    "button = widgets.Button(description=\"Select\")\n",
    "output = widgets.Output()\n",
    "with conn.cursor() as cursor:\n",
    "    cursor.execute('select title,movie_id from movie;')\n",
    "    res = cursor.fetchall()\n",
    "    for i in res:\n",
    "        tup = (i[0],i[1])\n",
    "        movielist.append(tup)\n",
    "selectmovie = widgets.Dropdown(options=movielist,description='Select Movie:')\n",
    "\n",
    "query_moviegenre = 'select name from genre where genre_id in(select genre_id from movie_genre inner join movie on movie.movie_id = movie_genre.movie_id where movie.movie_id = \"{movieid}\");'\n",
    "query_movieactor = 'select full_name from movie inner join movie_actor on movie_actor.movie_id = movie.movie_id inner join movie_cast on movie_cast.cast_id = movie_actor.actor_id  where movie.movie_id = \"{movieid}\";'\n",
    "query_moviedirector = 'select full_name from movie inner join movie_director on movie_director.movie_id = movie.movie_id inner join movie_cast on movie_cast.cast_id = movie_director.director_id  where movie.movie_id = \"{movieid}\";'\n",
    "query_movie = 'select * from movie where movie_id = \"{movieid}\";'\n",
    "\n",
    "def on_button_clicked(b):\n",
    "    with output:\n",
    "        with conn.cursor() as cursor:\n",
    "            genrelist = list()\n",
    "            actorlist = list()\n",
    "            directorlist = list()\n",
    "            \n",
    "            cursor.execute(query_movie.format(movieid = selectmovie.value))\n",
    "            res = cursor.fetchall()\n",
    "            print('Movie details:')\n",
    "            for i in res:\n",
    "                print('Description:')\n",
    "                print(i[2])\n",
    "                print('Duration:',end=\" \")\n",
    "                print(i[3])\n",
    "                print('Release Date:',end=\" \")\n",
    "                print(i[4])\n",
    "                print('Release Language:',end=\" \")\n",
    "                print(i[5])\n",
    "                \n",
    "                \n",
    "            cursor.execute(query_moviegenre.format(movieid = selectmovie.value))\n",
    "            res = cursor.fetchall()\n",
    "            print('Genre:',end=\" \")\n",
    "            for i in res:      \n",
    "                genrelist.append(i[0])\n",
    "            genres = ', '.join(genrelist)\n",
    "            print(genres)\n",
    "            \n",
    "            cursor.execute(query_moviedirector.format(movieid = selectmovie.value))\n",
    "            res = cursor.fetchall()\n",
    "            print('Directed By:',end=\" \")\n",
    "            for i in res:      \n",
    "                directorlist.append(i[0])\n",
    "            directors = ', '.join(directorlist)\n",
    "            print(directors)\n",
    "            \n",
    "            cursor.execute(query_movieactor.format(movieid = selectmovie.value))\n",
    "            res = cursor.fetchall()\n",
    "            print('Cast:',end=\" \")\n",
    "            for i in res:      \n",
    "                actorlist.append(i[0])\n",
    "            actors = ', '.join(actorlist)\n",
    "            print(actors)\n",
    "                \n",
    "button.on_click(on_button_clicked)\n",
    "\n",
    "display(selectmovie,button,output)\n",
    "\n",
    "\n"
   ]
  },
  {
   "cell_type": "code",
   "execution_count": 20,
   "id": "1f8ed188",
   "metadata": {},
   "outputs": [
    {
     "data": {
      "application/vnd.jupyter.widget-view+json": {
       "model_id": "a95945fdc69b450788a700c229e7b1e2",
       "version_major": 2,
       "version_minor": 0
      },
      "text/plain": [
       "RadioButtons(description='Theatres:', layout=Layout(width='max-content'), options=(('Lotte Cinema Đà Nẵng', '5…"
      ]
     },
     "metadata": {},
     "output_type": "display_data"
    },
    {
     "data": {
      "application/vnd.jupyter.widget-view+json": {
       "model_id": "721f6b3a4c4f4c1aa9602a0e9361b120",
       "version_major": 2,
       "version_minor": 0
      },
      "text/plain": [
       "Button(description='Select', style=ButtonStyle())"
      ]
     },
     "metadata": {},
     "output_type": "display_data"
    },
    {
     "data": {
      "application/vnd.jupyter.widget-view+json": {
       "model_id": "1aaf65c9df87416eb061eb4c783b4f9c",
       "version_major": 2,
       "version_minor": 0
      },
      "text/plain": [
       "Output()"
      ]
     },
     "metadata": {},
     "output_type": "display_data"
    }
   ],
   "source": [
    "theatrelist = list()\n",
    "showlist = list()\n",
    "\n",
    "button = widgets.Button(description=\"Select\")\n",
    "output = widgets.Output()\n",
    "\n",
    "showquery = 'select showtime_id, theatre.theatre_id, theatre.theatre_name,theatre_name,start_time,end_time from showtime inner join movie on showtime.movie_id = movie.movie_id inner join theatre on showtime.theatre_id = theatre.theatre_id where movie.movie_id = \"{movieid}\" group by start_time,end_time;'\n",
    "\n",
    "with conn.cursor() as cursor:\n",
    "    cursor.execute(showquery.format(movieid = selectmovie.value))\n",
    "    res = cursor.fetchall()\n",
    "    for i in res:\n",
    "        st = str(i[2])#+' Time:'+str(i[1]) + ' to ' + str(i[2])\n",
    "        tup = (st,i[1])\n",
    "        theatrelist.append(tup)\n",
    "        theatreset=set(theatrelist)\n",
    "        \n",
    "theatreradio = widgets.RadioButtons(options=theatreset,layout={'width': 'max-content'},description='Theatres:')\n",
    "\n",
    "showtimeradio = widgets.RadioButtons()\n",
    "\n",
    "def on_button_clicked(b):\n",
    "    with output:\n",
    "        global showtimeradio\n",
    "        output.clear_output()\n",
    "        with conn.cursor() as cursor:\n",
    "            cursor.execute(showquery.format(movieid = selectmovie.value))\n",
    "            res = cursor.fetchall()\n",
    "            st = ''\n",
    "            showlist = list()\n",
    "            for i in res:\n",
    "                if (i[1] == theatreradio.value):\n",
    "                    st = str(i[4]) + ' - ' + str(i[5])\n",
    "                    tup = (st,i[0])\n",
    "                    showlist.append(tup)\n",
    "                    showset=set(showlist)\n",
    "        showtimeradio = widgets.RadioButtons(options=showset,layout={'width': 'max-content'},description='Shows:')        \n",
    "        display(showtimeradio)\n",
    "        \n",
    "        \n",
    "button.on_click(on_button_clicked)\n",
    "\n",
    "display(theatreradio,button,output)\n"
   ]
  },
  {
   "cell_type": "code",
   "execution_count": 21,
   "id": "81575514",
   "metadata": {},
   "outputs": [
    {
     "name": "stdout",
     "output_type": "stream",
     "text": [
      "Deleting showtime_id:  5f760e14b4e1ec097c158169\n"
     ]
    },
    {
     "data": {
      "application/vnd.jupyter.widget-view+json": {
       "model_id": "f19f7bc9a3f84974806833836923535b",
       "version_major": 2,
       "version_minor": 0
      },
      "text/plain": [
       "Button(description='Delete', style=ButtonStyle())"
      ]
     },
     "metadata": {},
     "output_type": "display_data"
    },
    {
     "data": {
      "application/vnd.jupyter.widget-view+json": {
       "model_id": "55a1a5badf8c4a0ebbc996fef50fc418",
       "version_major": 2,
       "version_minor": 0
      },
      "text/plain": [
       "Output()"
      ]
     },
     "metadata": {},
     "output_type": "display_data"
    }
   ],
   "source": [
    "#cancel a show\n",
    "\n",
    "#delete a movie and its shows\n",
    "\n",
    "print('Deleting showtime_id: ',showtimeradio.value)\n",
    "button = widgets.Button(description=\"Delete\")\n",
    "output = widgets.Output()\n",
    "\n",
    "def on_button_clicked(b):\n",
    "    with output:\n",
    "        output.clear_output()\n",
    "        with conn.cursor() as cursor:\n",
    "            cursor.execute('delete from ticket where Showtime_id = \"{shid}\";'.format(shid = showtimeradio.value))\n",
    "            cursor.execute('delete from showtime where Showtime_id = \"{sid}\";'.format(sid = showtimeradio.value))\n",
    "        print('Show deleted.')\n",
    "button.on_click(on_button_clicked)\n",
    "\n",
    "display(button,output)\n"
   ]
  },
  {
   "cell_type": "markdown",
   "id": "f9a9e94d",
   "metadata": {},
   "source": [
    "change the prices for a show (add numeric value with +/- sign ex: +10 or -5):"
   ]
  },
  {
   "cell_type": "code",
   "execution_count": 22,
   "id": "8a9dcd8e",
   "metadata": {},
   "outputs": [
    {
     "name": "stdout",
     "output_type": "stream",
     "text": [
      "Updating ticket Proces for showtime_id:  5f760e14b4e1ec097c158169\n"
     ]
    },
    {
     "data": {
      "application/vnd.jupyter.widget-view+json": {
       "model_id": "98448ccfdd39469ca6802c09bf71231d",
       "version_major": 2,
       "version_minor": 0
      },
      "text/plain": [
       "Text(value='', description='Update by:', placeholder='Enter Update Value')"
      ]
     },
     "metadata": {},
     "output_type": "display_data"
    },
    {
     "data": {
      "application/vnd.jupyter.widget-view+json": {
       "model_id": "2afe3f5e0ec14bc7a88f7a86b31a00ef",
       "version_major": 2,
       "version_minor": 0
      },
      "text/plain": [
       "Button(description='Update', style=ButtonStyle())"
      ]
     },
     "metadata": {},
     "output_type": "display_data"
    },
    {
     "data": {
      "application/vnd.jupyter.widget-view+json": {
       "model_id": "f93094acde52435794715da35605880d",
       "version_major": 2,
       "version_minor": 0
      },
      "text/plain": [
       "Output()"
      ]
     },
     "metadata": {},
     "output_type": "display_data"
    }
   ],
   "source": [
    "#change the prices for a show\n",
    "\n",
    "print('Updating ticket Proces for showtime_id: ',showtimeradio.value)\n",
    "button = widgets.Button(description=\"Update\")\n",
    "output = widgets.Output()\n",
    "update = widgets.Text(placeholder='Enter Update Value',description='Update by:')\n",
    "\n",
    "def on_button_clicked(b):\n",
    "    with output:\n",
    "        output.clear_output()\n",
    "        with conn.cursor() as cursor:\n",
    "            #cursor.execute('update ticket set price = price{upd} where showtime_id = \"{shid}\";'.format(shid = showtimeradio.value,upd = update.value))\n",
    "            print('update ticket set price = price{upd} where showtime_id = \"{shid}\";'.format(shid = showtimeradio.value,upd = update.value))\n",
    "            #cursor.execute('commit;')\n",
    "        print('Show Updated.')\n",
    "button.on_click(on_button_clicked)\n",
    "\n",
    "display(update,button,output)\n"
   ]
  },
  {
   "cell_type": "markdown",
   "id": "bb6dbc9b",
   "metadata": {},
   "source": [
    "See how much money a movie made:"
   ]
  },
  {
   "cell_type": "code",
   "execution_count": 25,
   "id": "361e363d",
   "metadata": {},
   "outputs": [
    {
     "data": {
      "application/vnd.jupyter.widget-view+json": {
       "model_id": "c3cdf6eab1c9443d87243b3f6c50ce37",
       "version_major": 2,
       "version_minor": 0
      },
      "text/plain": [
       "Dropdown(description='Select Movie:', options=(('The Man Standing Next', '5f684ec4e5f57c315cac404d'), ('The Ma…"
      ]
     },
     "metadata": {},
     "output_type": "display_data"
    },
    {
     "data": {
      "application/vnd.jupyter.widget-view+json": {
       "model_id": "e2fdf3807a494f06add7b22abc5599f9",
       "version_major": 2,
       "version_minor": 0
      },
      "text/plain": [
       "Button(description='Select', style=ButtonStyle())"
      ]
     },
     "metadata": {},
     "output_type": "display_data"
    },
    {
     "data": {
      "application/vnd.jupyter.widget-view+json": {
       "model_id": "981b0a8fcc0242c49f3163b59b0fe4db",
       "version_major": 2,
       "version_minor": 0
      },
      "text/plain": [
       "Output()"
      ]
     },
     "metadata": {},
     "output_type": "display_data"
    }
   ],
   "source": [
    "# revenue for a movie\n",
    "movielist = list()\n",
    "with conn.cursor() as cursor:\n",
    "    cursor.execute('select title,movie_id from movie;')\n",
    "    res = cursor.fetchall()\n",
    "    for i in res:\n",
    "        tup = (i[0],i[1])\n",
    "        movielist.append(tup)\n",
    "selectmov = widgets.Dropdown(options=movielist,description='Select Movie:')\n",
    "button = widgets.Button(description=\"Select\")\n",
    "output = widgets.Output()\n",
    "\n",
    "def on_button_clicked(b):\n",
    "    with output:\n",
    "        output.clear_output()\n",
    "        with conn.cursor() as cursor:\n",
    "            cursor.execute('select revenue_generated(\"{mid}\") as Revenue;'.format(mid = selectmov.value))\n",
    "            res = cursor.fetchall()\n",
    "            for i in res:\n",
    "                print('Total revenue generated from movie: {amt}$'.format(amt = i[0]))\n",
    "            \n",
    "button.on_click(on_button_clicked)\n",
    "\n",
    "display(selectmov,button,output)\n"
   ]
  },
  {
   "cell_type": "markdown",
   "id": "32661dca",
   "metadata": {},
   "source": [
    "occupancy ratio of a theatre for a given movie:"
   ]
  },
  {
   "cell_type": "code",
   "execution_count": 26,
   "id": "6fb9d6a8",
   "metadata": {},
   "outputs": [
    {
     "data": {
      "application/vnd.jupyter.widget-view+json": {
       "model_id": "a7618e3d66734ecfbd92cd6b7590751d",
       "version_major": 2,
       "version_minor": 0
      },
      "text/plain": [
       "Dropdown(description='Select Movie:', options=(('The Man Standing Next', '5f684ec4e5f57c315cac404d'), ('The Ma…"
      ]
     },
     "metadata": {},
     "output_type": "display_data"
    },
    {
     "data": {
      "application/vnd.jupyter.widget-view+json": {
       "model_id": "cd4d8417dda2408e9dcd6915e85af69e",
       "version_major": 2,
       "version_minor": 0
      },
      "text/plain": [
       "Dropdown(description='Select Theatre:', options=(('Galaxy - Đà Nẵng', '5f68b34045ab693e24bd9d70'), ('Starlight…"
      ]
     },
     "metadata": {},
     "output_type": "display_data"
    },
    {
     "data": {
      "application/vnd.jupyter.widget-view+json": {
       "model_id": "c19b8780493445f58f256ad85f862a7e",
       "version_major": 2,
       "version_minor": 0
      },
      "text/plain": [
       "Button(description='Select', style=ButtonStyle())"
      ]
     },
     "metadata": {},
     "output_type": "display_data"
    },
    {
     "data": {
      "application/vnd.jupyter.widget-view+json": {
       "model_id": "47a9e7f2062e4cab87fbf44417019d7b",
       "version_major": 2,
       "version_minor": 0
      },
      "text/plain": [
       "Output()"
      ]
     },
     "metadata": {},
     "output_type": "display_data"
    }
   ],
   "source": [
    "# occupancy ratio of a theatre for a given movie\n",
    "movielist = list()\n",
    "theatrelist = list()\n",
    "with conn.cursor() as cursor:\n",
    "    cursor.execute('select title,movie_id from movie;')\n",
    "    res = cursor.fetchall()\n",
    "    for i in res:\n",
    "        tup = (i[0],i[1])\n",
    "        movielist.append(tup)\n",
    "selectmov2 = widgets.Dropdown(options=movielist,description='Select Movie:')\n",
    "\n",
    "with conn.cursor() as cursor:\n",
    "    cursor.execute('select theatre_name,theatre_id from theatre;')\n",
    "    res = cursor.fetchall()\n",
    "    for i in res:\n",
    "        tup = (i[0],i[1])\n",
    "        theatrelist.append(tup)\n",
    "selectth = widgets.Dropdown(options=theatrelist,description='Select Theatre:')\n",
    "\n",
    "\n",
    "button = widgets.Button(description=\"Select\")\n",
    "output = widgets.Output()\n",
    "\n",
    "def on_button_clicked(b):\n",
    "    with output:\n",
    "        output.clear_output()\n",
    "        with conn.cursor() as cursor:\n",
    "            cursor.execute('select ratio_booked_seats(\"{mid}\",\"{thid}\");'.format(mid = selectmov2.value,thid=selectth.value))\n",
    "            res = cursor.fetchall()\n",
    "            for i in res:\n",
    "                print('Occupancy Ratio: {r}'.format(r = i[0]))\n",
    "            \n",
    "button.on_click(on_button_clicked)\n",
    "\n",
    "display(selectmov2,selectth,button,output)\n"
   ]
  },
  {
   "cell_type": "markdown",
   "id": "fd774f1b",
   "metadata": {},
   "source": [
    "Some stats that the admin can view:"
   ]
  },
  {
   "cell_type": "markdown",
   "id": "ed926f8c",
   "metadata": {},
   "source": [
    "(1) Most popular genre as per number of bookings:"
   ]
  },
  {
   "cell_type": "code",
   "execution_count": 25,
   "id": "6119d216",
   "metadata": {},
   "outputs": [
    {
     "name": "stdout",
     "output_type": "stream",
     "text": [
      "most popular genre as per number of bookings:\n"
     ]
    },
    {
     "data": {
      "text/html": [
       "<div>\n",
       "<style scoped>\n",
       "    .dataframe tbody tr th:only-of-type {\n",
       "        vertical-align: middle;\n",
       "    }\n",
       "\n",
       "    .dataframe tbody tr th {\n",
       "        vertical-align: top;\n",
       "    }\n",
       "\n",
       "    .dataframe thead th {\n",
       "        text-align: right;\n",
       "    }\n",
       "</style>\n",
       "<table border=\"1\" class=\"dataframe\">\n",
       "  <thead>\n",
       "    <tr style=\"text-align: right;\">\n",
       "      <th></th>\n",
       "      <th>Genre</th>\n",
       "      <th>Tickets_Sold</th>\n",
       "    </tr>\n",
       "  </thead>\n",
       "  <tbody>\n",
       "    <tr>\n",
       "      <th>0</th>\n",
       "      <td>Drama</td>\n",
       "      <td>38</td>\n",
       "    </tr>\n",
       "    <tr>\n",
       "      <th>1</th>\n",
       "      <td>Documentary</td>\n",
       "      <td>29</td>\n",
       "    </tr>\n",
       "    <tr>\n",
       "      <th>2</th>\n",
       "      <td>Thriller</td>\n",
       "      <td>25</td>\n",
       "    </tr>\n",
       "    <tr>\n",
       "      <th>3</th>\n",
       "      <td>Action</td>\n",
       "      <td>20</td>\n",
       "    </tr>\n",
       "    <tr>\n",
       "      <th>4</th>\n",
       "      <td>Horror</td>\n",
       "      <td>13</td>\n",
       "    </tr>\n",
       "    <tr>\n",
       "      <th>5</th>\n",
       "      <td>Science Fiction</td>\n",
       "      <td>12</td>\n",
       "    </tr>\n",
       "    <tr>\n",
       "      <th>6</th>\n",
       "      <td>Crime</td>\n",
       "      <td>11</td>\n",
       "    </tr>\n",
       "    <tr>\n",
       "      <th>7</th>\n",
       "      <td>Romance</td>\n",
       "      <td>8</td>\n",
       "    </tr>\n",
       "    <tr>\n",
       "      <th>8</th>\n",
       "      <td>History</td>\n",
       "      <td>6</td>\n",
       "    </tr>\n",
       "    <tr>\n",
       "      <th>9</th>\n",
       "      <td>Comedy</td>\n",
       "      <td>5</td>\n",
       "    </tr>\n",
       "    <tr>\n",
       "      <th>10</th>\n",
       "      <td>Mystery</td>\n",
       "      <td>4</td>\n",
       "    </tr>\n",
       "    <tr>\n",
       "      <th>11</th>\n",
       "      <td>Adventure</td>\n",
       "      <td>4</td>\n",
       "    </tr>\n",
       "    <tr>\n",
       "      <th>12</th>\n",
       "      <td>War</td>\n",
       "      <td>3</td>\n",
       "    </tr>\n",
       "    <tr>\n",
       "      <th>13</th>\n",
       "      <td>Animation</td>\n",
       "      <td>1</td>\n",
       "    </tr>\n",
       "  </tbody>\n",
       "</table>\n",
       "</div>"
      ],
      "text/plain": [
       "              Genre  Tickets_Sold\n",
       "0             Drama            38\n",
       "1       Documentary            29\n",
       "2          Thriller            25\n",
       "3            Action            20\n",
       "4            Horror            13\n",
       "5   Science Fiction            12\n",
       "6             Crime            11\n",
       "7           Romance             8\n",
       "8           History             6\n",
       "9            Comedy             5\n",
       "10          Mystery             4\n",
       "11        Adventure             4\n",
       "12              War             3\n",
       "13        Animation             1"
      ]
     },
     "metadata": {},
     "output_type": "display_data"
    }
   ],
   "source": [
    "#some stats that the admin can view\n",
    "from pandas import DataFrame\n",
    "print(\"most popular genre as per number of bookings:\")\n",
    "query = \"select g.name as Genre, count(t.Ticket_id) as Tickets_Sold from genre as g, booking as b, showtime as s, movie as m, movie_genre as mg, ticket as t where b.booking_id=t.Booking_id and s.Showtime_id=b.Showtime_id and s.Movie_id=m.Movie_id and m.Movie_id=mg.Movie_id and mg.Genre_id=g.Genre_id and s.Movie_id=m.Movie_id group by g.name order by tickets_sold desc;\"\n",
    "with conn.cursor() as cursor:\n",
    "    cursor.execute(query)\n",
    "    df = DataFrame(cursor.fetchall())\n",
    "    df.columns = cursor.column_names\n",
    "    display(df)\n"
   ]
  },
  {
   "cell_type": "code",
   "execution_count": 181,
   "id": "106251f8",
   "metadata": {},
   "outputs": [
    {
     "name": "stdout",
     "output_type": "stream",
     "text": [
      "most popular genre as per number of bookings\n"
     ]
    },
    {
     "data": {
      "image/png": "[encoded data removed]",
      "text/plain": [
       "<Figure size 720x720 with 1 Axes>"
      ]
     },
     "metadata": {},
     "output_type": "display_data"
    }
   ],
   "source": [
    "print('most popular genre as per number of bookings')\n",
    "import matplotlib.pyplot as plt\n",
    "y = list(df['Genre'])\n",
    "x = list(df['Tickets_Sold'])\n",
    "plt.figure(figsize=(10, 10))\n",
    "plt.pie(x, labels = y)\n",
    "plt.show()"
   ]
  },
  {
   "cell_type": "markdown",
   "id": "2f0768c2",
   "metadata": {},
   "source": [
    "(2) Revenue of given theatre for each date:"
   ]
  },
  {
   "cell_type": "code",
   "execution_count": 194,
   "id": "8205c9f1",
   "metadata": {
    "scrolled": false
   },
   "outputs": [
    {
     "name": "stdout",
     "output_type": "stream",
     "text": [
      "Revenue of given theatre for each date:\n"
     ]
    },
    {
     "data": {
      "text/html": [
       "<div>\n",
       "<style scoped>\n",
       "    .dataframe tbody tr th:only-of-type {\n",
       "        vertical-align: middle;\n",
       "    }\n",
       "\n",
       "    .dataframe tbody tr th {\n",
       "        vertical-align: top;\n",
       "    }\n",
       "\n",
       "    .dataframe thead th {\n",
       "        text-align: right;\n",
       "    }\n",
       "</style>\n",
       "<table border=\"1\" class=\"dataframe\">\n",
       "  <thead>\n",
       "    <tr style=\"text-align: right;\">\n",
       "      <th></th>\n",
       "      <th>Revenue_per_theatre</th>\n",
       "      <th>Date_</th>\n",
       "      <th>Theatre</th>\n",
       "    </tr>\n",
       "  </thead>\n",
       "  <tbody>\n",
       "    <tr>\n",
       "      <th>0</th>\n",
       "      <td>56280000</td>\n",
       "      <td>2020-10-02</td>\n",
       "      <td>Galaxy - Đà Nẵng</td>\n",
       "    </tr>\n",
       "    <tr>\n",
       "      <th>1</th>\n",
       "      <td>66360000</td>\n",
       "      <td>2020-10-05</td>\n",
       "      <td>Galaxy - Đà Nẵng</td>\n",
       "    </tr>\n",
       "    <tr>\n",
       "      <th>2</th>\n",
       "      <td>81480000</td>\n",
       "      <td>2020-10-06</td>\n",
       "      <td>Galaxy - Đà Nẵng</td>\n",
       "    </tr>\n",
       "    <tr>\n",
       "      <th>3</th>\n",
       "      <td>42840000</td>\n",
       "      <td>2020-10-07</td>\n",
       "      <td>Galaxy - Đà Nẵng</td>\n",
       "    </tr>\n",
       "    <tr>\n",
       "      <th>4</th>\n",
       "      <td>47040000</td>\n",
       "      <td>2020-10-09</td>\n",
       "      <td>Galaxy - Đà Nẵng</td>\n",
       "    </tr>\n",
       "    <tr>\n",
       "      <th>...</th>\n",
       "      <td>...</td>\n",
       "      <td>...</td>\n",
       "      <td>...</td>\n",
       "    </tr>\n",
       "    <tr>\n",
       "      <th>175</th>\n",
       "      <td>52200000</td>\n",
       "      <td>2020-12-18</td>\n",
       "      <td>Starlight Đà Nẵng</td>\n",
       "    </tr>\n",
       "    <tr>\n",
       "      <th>176</th>\n",
       "      <td>47700000</td>\n",
       "      <td>2020-12-14</td>\n",
       "      <td>Lotte Cinema Đà Nẵng</td>\n",
       "    </tr>\n",
       "    <tr>\n",
       "      <th>177</th>\n",
       "      <td>4500000</td>\n",
       "      <td>2020-12-31</td>\n",
       "      <td>Galaxy - Đà Nẵng</td>\n",
       "    </tr>\n",
       "    <tr>\n",
       "      <th>178</th>\n",
       "      <td>7650</td>\n",
       "      <td>2022-12-16</td>\n",
       "      <td>Galaxy - Đà Nẵng</td>\n",
       "    </tr>\n",
       "    <tr>\n",
       "      <th>179</th>\n",
       "      <td>6720</td>\n",
       "      <td>2022-12-12</td>\n",
       "      <td>Galaxy - Đà Nẵng</td>\n",
       "    </tr>\n",
       "  </tbody>\n",
       "</table>\n",
       "<p>180 rows × 3 columns</p>\n",
       "</div>"
      ],
      "text/plain": [
       "    Revenue_per_theatre       Date_               Theatre\n",
       "0              56280000  2020-10-02      Galaxy - Đà Nẵng\n",
       "1              66360000  2020-10-05      Galaxy - Đà Nẵng\n",
       "2              81480000  2020-10-06      Galaxy - Đà Nẵng\n",
       "3              42840000  2020-10-07      Galaxy - Đà Nẵng\n",
       "4              47040000  2020-10-09      Galaxy - Đà Nẵng\n",
       "..                  ...         ...                   ...\n",
       "175            52200000  2020-12-18     Starlight Đà Nẵng\n",
       "176            47700000  2020-12-14  Lotte Cinema Đà Nẵng\n",
       "177             4500000  2020-12-31      Galaxy - Đà Nẵng\n",
       "178                7650  2022-12-16      Galaxy - Đà Nẵng\n",
       "179                6720  2022-12-12      Galaxy - Đà Nẵng\n",
       "\n",
       "[180 rows x 3 columns]"
      ]
     },
     "metadata": {},
     "output_type": "display_data"
    }
   ],
   "source": [
    "\n",
    "#some stats that the admin can view\n",
    "from pandas import DataFrame\n",
    "print(\"Revenue of given theatre for each date:\")\n",
    "query = \"select sum(t.price) as Revenue_per_theatre, DATE(s.Start_time) as Date_, tt.Theatre_Name as Theatre from ticket as t, showtime as s, theatre as tt where s.Showtime_id=t.Showtime_id and tt.Theatre_id=s.Theatre_id group by s.Theatre_id, Date_;\"\n",
    "with conn.cursor() as cursor:\n",
    "    cursor.execute(query)\n",
    "    df = DataFrame(cursor.fetchall())\n",
    "    df.columns = cursor.column_names\n",
    "    display(df)\n"
   ]
  },
  {
   "cell_type": "code",
   "execution_count": 186,
   "id": "c3cd8f78",
   "metadata": {},
   "outputs": [
    {
     "name": "stdout",
     "output_type": "stream",
     "text": [
      "revenue for 10 days for Galaxy cinema:\n"
     ]
    },
    {
     "data": {
      "text/plain": [
       "<AxesSubplot:xlabel='Date_'>"
      ]
     },
     "execution_count": 186,
     "metadata": {},
     "output_type": "execute_result"
    },
    {
     "data": {
      "image/png": "[encoded data removed]",
      "text/plain": [
       "<Figure size 576x576 with 1 Axes>"
      ]
     },
     "metadata": {
      "needs_background": "light"
     },
     "output_type": "display_data"
    }
   ],
   "source": [
    "#for theatre galaxy\n",
    "print('revenue for 10 days for Galaxy cinema:')\n",
    "galaxydf = df[df['Theatre'] == 'Galaxy - Đà Nẵng']\n",
    "galaxydf = galaxydf[['Revenue_per_theatre','Date_']]\n",
    "galaxydf = galaxydf.iloc[:10]\n",
    "galaxydf['Revenue_per_theatre']=galaxydf['Revenue_per_theatre'].astype(int)\n",
    "galaxydf[['Revenue_per_theatre','Date_']].plot(x = 'Date_',y = 'Revenue_per_theatre',figsize = (8,8))\n"
   ]
  },
  {
   "cell_type": "code",
   "execution_count": 150,
   "id": "07198561",
   "metadata": {
    "scrolled": true
   },
   "outputs": [],
   "source": [
    "gdf = df[df['Theatre'] == 'Galaxy - Đà Nẵng']\n",
    "gdf = gdf[['Revenue_per_theatre']]\n",
    "grev = list(gdf['Revenue_per_theatre'])[0:10]\n",
    "sdf = df[df['Theatre'] == 'Starlight Đà Nẵng']\n",
    "sdf = sdf[['Revenue_per_theatre']]\n",
    "srev = list(sdf['Revenue_per_theatre'])[0:10]\n",
    "ldf = df[df['Theatre'] == 'Lotte Cinema Đà Nẵng']\n",
    "ldf = ldf[['Revenue_per_theatre']]\n",
    "lrev = list(ldf['Revenue_per_theatre'])[0:10]"
   ]
  },
  {
   "cell_type": "code",
   "execution_count": 187,
   "id": "7f9e9b7a",
   "metadata": {},
   "outputs": [
    {
     "name": "stdout",
     "output_type": "stream",
     "text": [
      "Revenue for 10 days for 3 theaters:\n"
     ]
    },
    {
     "data": {
      "text/plain": [
       "<Figure size 432x288 with 0 Axes>"
      ]
     },
     "metadata": {},
     "output_type": "display_data"
    },
    {
     "data": {
      "image/png": "[encoded data removed]",
      "text/plain": [
       "<Figure size 576x576 with 1 Axes>"
      ]
     },
     "metadata": {
      "needs_background": "light"
     },
     "output_type": "display_data"
    }
   ],
   "source": [
    "print(\"Revenue for 10 days for 3 theaters:\")\n",
    "import matplotlib.pyplot as plt\n",
    "%matplotlib inline\n",
    "\n",
    "fig = plt.figure()\n",
    "plt.figure(figsize=(8, 8))\n",
    "plt.plot(lrev,label = \"Lotte Cinema\")\n",
    "plt.plot(srev,label = \"Starlight Cinema\")\n",
    "plt.plot(grev,label = \"Galaxy Cinema\")\n",
    "plt.legend()\n",
    "plt.show()"
   ]
  },
  {
   "cell_type": "markdown",
   "id": "5f9a61b4",
   "metadata": {},
   "source": [
    "(3) Revenue per date:"
   ]
  },
  {
   "cell_type": "code",
   "execution_count": 196,
   "id": "8a4e1e8e",
   "metadata": {},
   "outputs": [
    {
     "name": "stdout",
     "output_type": "stream",
     "text": [
      "Revenue per date:\n"
     ]
    },
    {
     "data": {
      "text/html": [
       "<div>\n",
       "<style scoped>\n",
       "    .dataframe tbody tr th:only-of-type {\n",
       "        vertical-align: middle;\n",
       "    }\n",
       "\n",
       "    .dataframe tbody tr th {\n",
       "        vertical-align: top;\n",
       "    }\n",
       "\n",
       "    .dataframe thead th {\n",
       "        text-align: right;\n",
       "    }\n",
       "</style>\n",
       "<table border=\"1\" class=\"dataframe\">\n",
       "  <thead>\n",
       "    <tr style=\"text-align: right;\">\n",
       "      <th></th>\n",
       "      <th>Date_</th>\n",
       "      <th>Revenue</th>\n",
       "    </tr>\n",
       "  </thead>\n",
       "  <tbody>\n",
       "    <tr>\n",
       "      <th>0</th>\n",
       "      <td>2020-10-02</td>\n",
       "      <td>127380000</td>\n",
       "    </tr>\n",
       "    <tr>\n",
       "      <th>1</th>\n",
       "      <td>2020-10-03</td>\n",
       "      <td>138420000</td>\n",
       "    </tr>\n",
       "    <tr>\n",
       "      <th>2</th>\n",
       "      <td>2020-10-04</td>\n",
       "      <td>158940000</td>\n",
       "    </tr>\n",
       "    <tr>\n",
       "      <th>3</th>\n",
       "      <td>2020-10-05</td>\n",
       "      <td>246360000</td>\n",
       "    </tr>\n",
       "    <tr>\n",
       "      <th>4</th>\n",
       "      <td>2020-10-06</td>\n",
       "      <td>162480000</td>\n",
       "    </tr>\n",
       "    <tr>\n",
       "      <th>...</th>\n",
       "      <td>...</td>\n",
       "      <td>...</td>\n",
       "    </tr>\n",
       "    <tr>\n",
       "      <th>61</th>\n",
       "      <td>2020-12-17</td>\n",
       "      <td>265620000</td>\n",
       "    </tr>\n",
       "    <tr>\n",
       "      <th>62</th>\n",
       "      <td>2020-12-18</td>\n",
       "      <td>267300000</td>\n",
       "    </tr>\n",
       "    <tr>\n",
       "      <th>63</th>\n",
       "      <td>2020-12-31</td>\n",
       "      <td>4500000</td>\n",
       "    </tr>\n",
       "    <tr>\n",
       "      <th>64</th>\n",
       "      <td>2022-12-12</td>\n",
       "      <td>6720</td>\n",
       "    </tr>\n",
       "    <tr>\n",
       "      <th>65</th>\n",
       "      <td>2022-12-16</td>\n",
       "      <td>7650</td>\n",
       "    </tr>\n",
       "  </tbody>\n",
       "</table>\n",
       "<p>66 rows × 2 columns</p>\n",
       "</div>"
      ],
      "text/plain": [
       "         Date_    Revenue\n",
       "0   2020-10-02  127380000\n",
       "1   2020-10-03  138420000\n",
       "2   2020-10-04  158940000\n",
       "3   2020-10-05  246360000\n",
       "4   2020-10-06  162480000\n",
       "..         ...        ...\n",
       "61  2020-12-17  265620000\n",
       "62  2020-12-18  267300000\n",
       "63  2020-12-31    4500000\n",
       "64  2022-12-12       6720\n",
       "65  2022-12-16       7650\n",
       "\n",
       "[66 rows x 2 columns]"
      ]
     },
     "metadata": {},
     "output_type": "display_data"
    }
   ],
   "source": [
    "\n",
    "\n",
    "#some stats that the admin can view\n",
    "from pandas import DataFrame\n",
    "print(\"Revenue per date:\")\n",
    "query = \"select DATE(s.Start_time) as Date_, sum(t.price) as Revenue from ticket as t, showtime as s where s.Showtime_id=t.Showtime_id group by Date_ order by Date_;\"\n",
    "with conn.cursor() as cursor:\n",
    "    cursor.execute(query)\n",
    "    df = DataFrame(cursor.fetchall())\n",
    "    df.columns = cursor.column_names\n",
    "    display(df)\n"
   ]
  },
  {
   "cell_type": "code",
   "execution_count": 193,
   "id": "a13fd192",
   "metadata": {},
   "outputs": [
    {
     "name": "stdout",
     "output_type": "stream",
     "text": [
      "Total Revenue from ticket Sales for 1 month\n"
     ]
    },
    {
     "data": {
      "text/plain": [
       "<AxesSubplot:xlabel='Date_'>"
      ]
     },
     "execution_count": 193,
     "metadata": {},
     "output_type": "execute_result"
    },
    {
     "data": {
      "image/png": "[encoded data removed]",
      "text/plain": [
       "<Figure size 576x576 with 1 Axes>"
      ]
     },
     "metadata": {
      "needs_background": "light"
     },
     "output_type": "display_data"
    }
   ],
   "source": [
    "print('Total Revenue from ticket Sales for 1 month')\n",
    "df = df.iloc[:30]\n",
    "df['Revenue']=df['Revenue'].astype(int)\n",
    "df[['Revenue','Date_']].plot.bar(x = 'Date_',y = 'Revenue',figsize=(8,8))"
   ]
  },
  {
   "cell_type": "markdown",
   "id": "aa0ec025",
   "metadata": {},
   "source": [
    "(4) Most popular Movies as per number 5 star reviews:"
   ]
  },
  {
   "cell_type": "code",
   "execution_count": 171,
   "id": "52ba572a",
   "metadata": {},
   "outputs": [
    {
     "name": "stdout",
     "output_type": "stream",
     "text": [
      "most popular Movies as per number 5 star reviews:\n"
     ]
    },
    {
     "data": {
      "text/html": [
       "<div>\n",
       "<style scoped>\n",
       "    .dataframe tbody tr th:only-of-type {\n",
       "        vertical-align: middle;\n",
       "    }\n",
       "\n",
       "    .dataframe tbody tr th {\n",
       "        vertical-align: top;\n",
       "    }\n",
       "\n",
       "    .dataframe thead th {\n",
       "        text-align: right;\n",
       "    }\n",
       "</style>\n",
       "<table border=\"1\" class=\"dataframe\">\n",
       "  <thead>\n",
       "    <tr style=\"text-align: right;\">\n",
       "      <th></th>\n",
       "      <th>title</th>\n",
       "      <th>Number_of_5_star_reviews</th>\n",
       "    </tr>\n",
       "  </thead>\n",
       "  <tbody>\n",
       "    <tr>\n",
       "      <th>0</th>\n",
       "      <td>Confessions of a Time Traveler - The Man from ...</td>\n",
       "      <td>40</td>\n",
       "    </tr>\n",
       "    <tr>\n",
       "      <th>1</th>\n",
       "      <td>El Camino: A Breaking Bad Movie</td>\n",
       "      <td>40</td>\n",
       "    </tr>\n",
       "    <tr>\n",
       "      <th>2</th>\n",
       "      <td>A Score to Settle</td>\n",
       "      <td>39</td>\n",
       "    </tr>\n",
       "    <tr>\n",
       "      <th>3</th>\n",
       "      <td>No Ordinary Man</td>\n",
       "      <td>37</td>\n",
       "    </tr>\n",
       "    <tr>\n",
       "      <th>4</th>\n",
       "      <td>A Beautiful Day in the Neighborhood</td>\n",
       "      <td>35</td>\n",
       "    </tr>\n",
       "    <tr>\n",
       "      <th>5</th>\n",
       "      <td>De patitas a la calle</td>\n",
       "      <td>33</td>\n",
       "    </tr>\n",
       "    <tr>\n",
       "      <th>6</th>\n",
       "      <td>Patients of a Saint</td>\n",
       "      <td>30</td>\n",
       "    </tr>\n",
       "    <tr>\n",
       "      <th>7</th>\n",
       "      <td>Blind</td>\n",
       "      <td>27</td>\n",
       "    </tr>\n",
       "    <tr>\n",
       "      <th>8</th>\n",
       "      <td>A Quiet Place Part II</td>\n",
       "      <td>26</td>\n",
       "    </tr>\n",
       "    <tr>\n",
       "      <th>9</th>\n",
       "      <td>All Day and a Night</td>\n",
       "      <td>25</td>\n",
       "    </tr>\n",
       "  </tbody>\n",
       "</table>\n",
       "</div>"
      ],
      "text/plain": [
       "                                               title  Number_of_5_star_reviews\n",
       "0  Confessions of a Time Traveler - The Man from ...                        40\n",
       "1                    El Camino: A Breaking Bad Movie                        40\n",
       "2                                  A Score to Settle                        39\n",
       "3                                    No Ordinary Man                        37\n",
       "4                A Beautiful Day in the Neighborhood                        35\n",
       "5                              De patitas a la calle                        33\n",
       "6                                Patients of a Saint                        30\n",
       "7                                              Blind                        27\n",
       "8                              A Quiet Place Part II                        26\n",
       "9                                All Day and a Night                        25"
      ]
     },
     "metadata": {},
     "output_type": "display_data"
    }
   ],
   "source": [
    "\n",
    "\n",
    "#some stats that the admin can view\n",
    "from pandas import DataFrame\n",
    "print(\"most popular Movies as per number 5 star reviews:\")\n",
    "query = \"select m.title, count(rate_star) as Number_of_5_star_reviews from rating as r, movie as m where m.Movie_id=r.Movie_id and r.rate_star=5 group by m.title order by Number_of_5_star_reviews desc limit 10;\"\n",
    "with conn.cursor() as cursor:\n",
    "    cursor.execute(query)\n",
    "    df = DataFrame(cursor.fetchall())\n",
    "    df.columns = cursor.column_names\n",
    "    display(df)\n"
   ]
  },
  {
   "cell_type": "code",
   "execution_count": null,
   "id": "9f7d3f7d",
   "metadata": {},
   "outputs": [],
   "source": []
  },
  {
   "cell_type": "code",
   "execution_count": null,
   "id": "9d4d0c35",
   "metadata": {},
   "outputs": [],
   "source": []
  }
 ],
 "metadata": {
  "kernelspec": {
   "display_name": "Python 3 (ipykernel)",
   "language": "python",
   "name": "python3"
  },
  "language_info": {
   "codemirror_mode": {
    "name": "ipython",
    "version": 3
   },
   "file_extension": ".py",
   "mimetype": "text/x-python",
   "name": "python",
   "nbconvert_exporter": "python",
   "pygments_lexer": "ipython3",
   "version": "3.9.12"
  }
 },
 "nbformat": 4,
 "nbformat_minor": 5
}
